{
  "nbformat": 4,
  "nbformat_minor": 0,
  "metadata": {
    "colab": {
      "provenance": [],
      "authorship_tag": "ABX9TyNFf7V7jTZ+Mt2MxozfI+pR",
      "include_colab_link": true
    },
    "kernelspec": {
      "name": "python3",
      "display_name": "Python 3"
    },
    "language_info": {
      "name": "python"
    }
  },
  "cells": [
    {
      "cell_type": "markdown",
      "metadata": {
        "id": "view-in-github",
        "colab_type": "text"
      },
      "source": [
        "<a href=\"https://colab.research.google.com/github/jackhung32768/machine_learning/blob/main/machine_learning_mit_quiz_1.ipynb\" target=\"_parent\"><img src=\"https://colab.research.google.com/assets/colab-badge.svg\" alt=\"Open In Colab\"/></a>"
      ]
    },
    {
      "cell_type": "code",
      "execution_count": 4,
      "metadata": {
        "colab": {
          "base_uri": "https://localhost:8080/"
        },
        "id": "0nMm225lsBAl",
        "outputId": "8c85320c-465c-47bd-de27-60e4d3e53a19"
      },
      "outputs": [
        {
          "output_type": "stream",
          "name": "stdout",
          "text": [
            "Drive already mounted at drive; to attempt to forcibly remount, call drive.mount(\"drive\", force_remount=True).\n",
            "     Rating  Reviews                                         Book_title  \\\n",
            "0      4.17     3829                              The Elements of Style   \n",
            "1      4.01     1406      The Information: A History, a Theory, a Flood   \n",
            "2      3.33        0       Responsive Web Design Overview For Beginners   \n",
            "3      3.97     1658  Ghost in the Wires: My Adventures as the World...   \n",
            "4      4.06     1325                                   How Google Works   \n",
            "..      ...      ...                                                ...   \n",
            "266    3.76        0  3D Game Engine Architecture: Engineering Real-...   \n",
            "267    3.94       22                An Introduction to Database Systems   \n",
            "268    4.49       36  The Art of Computer Programming, Volumes 1-3 B...   \n",
            "269    4.77        4  The Art of Computer Programming, Volumes 1-4a ...   \n",
            "270    3.84        5              A Discipline for Software Engineering   \n",
            "\n",
            "                                           Description  Number_Of_Pages  \\\n",
            "0    This style manual offers practical advice on i...              105   \n",
            "1    James Gleick, the author of the best sellers C...              527   \n",
            "2    In Responsive Web Design Overview For Beginner...               50   \n",
            "3    If they were a hall of fame or shame for compu...              393   \n",
            "4    Both Eric Schmidt and Jonathan Rosenberg came ...              305   \n",
            "..                                                 ...              ...   \n",
            "266  Dave Eberly's 3D Game Engine Design was the fi...              752   \n",
            "267  Continuing in the eighth edition, An Introduct...             1040   \n",
            "268  Knuth's classic work has been widely acclaimed...              896   \n",
            "269  \"The bible of all fundamental algorithms and t...             3168   \n",
            "270  Designed to help individual programmers develo...              789   \n",
            "\n",
            "                      Type       Price  \n",
            "0                Hardcover    9.323529  \n",
            "1                Hardcover   11.000000  \n",
            "2           Kindle Edition   11.267647  \n",
            "3                Hardcover   12.873529  \n",
            "4           Kindle Edition   13.164706  \n",
            "..                     ...         ...  \n",
            "266              Hardcover  203.108823  \n",
            "267              Paperback  212.097059  \n",
            "268  Boxed Set - Hardcover  220.385294  \n",
            "269              Hardcover  220.385294  \n",
            "270              Hardcover  235.650000  \n",
            "\n",
            "[271 rows x 7 columns]\n"
          ]
        }
      ],
      "source": [
        "\n",
        "import numpy as np\n",
        "import pandas as pd\n",
        "import seaborn as sns\n",
        "from google.colab import drive\n",
        "\n",
        "drive.mount(\"drive\")\n",
        "path1=\"drive/MyDrive/machine_learning_mit/prog_book.csv\"\n",
        "df=pd.read_csv(path1)\n",
        "print(df)\n",
        "\n",
        "\n"
      ]
    },
    {
      "cell_type": "code",
      "source": [
        "import numpy as np\n",
        "demo_matrix = np.array(([13,35,74,48], [23,37,37,38],[73,32,93,39]))\n",
        "demo_matrix[2,3]"
      ],
      "metadata": {
        "colab": {
          "base_uri": "https://localhost:8080/"
        },
        "id": "Wt3izjzutlid",
        "outputId": "258ad66e-0401-4e9c-e2ce-17676004f51e"
      },
      "execution_count": 5,
      "outputs": [
        {
          "output_type": "execute_result",
          "data": {
            "text/plain": [
              "39"
            ]
          },
          "metadata": {},
          "execution_count": 5
        }
      ]
    },
    {
      "cell_type": "code",
      "source": [
        "import numpy as np\n",
        "np.arange(0,22,6)"
      ],
      "metadata": {
        "colab": {
          "base_uri": "https://localhost:8080/"
        },
        "id": "LhdvvPhatsz2",
        "outputId": "ec19512d-237c-4071-b8ce-9c4ef021932b"
      },
      "execution_count": 6,
      "outputs": [
        {
          "output_type": "execute_result",
          "data": {
            "text/plain": [
              "array([ 0,  6, 12, 18])"
            ]
          },
          "metadata": {},
          "execution_count": 6
        }
      ]
    },
    {
      "cell_type": "code",
      "source": [
        "import numpy as np\n",
        "demo_array = np.arange(10,17)\n",
        "demo_array [:]= 101\n",
        "demo_array"
      ],
      "metadata": {
        "colab": {
          "base_uri": "https://localhost:8080/"
        },
        "id": "y3_LbW1Dtz1j",
        "outputId": "e0668439-f3dc-4eef-9bbb-80929e82c768"
      },
      "execution_count": 7,
      "outputs": [
        {
          "output_type": "execute_result",
          "data": {
            "text/plain": [
              "array([101, 101, 101, 101, 101, 101, 101])"
            ]
          },
          "metadata": {},
          "execution_count": 7
        }
      ]
    },
    {
      "cell_type": "code",
      "source": [
        "import pandas as pd\n",
        "score = [10, 15, 20, 25]\n",
        "pd.Series(data=score, index = ['a','b','c','d'])"
      ],
      "metadata": {
        "colab": {
          "base_uri": "https://localhost:8080/"
        },
        "id": "7xJcFKrqt8V0",
        "outputId": "bc3498da-cc3b-42b8-ca84-7a21e7d26cf1"
      },
      "execution_count": 8,
      "outputs": [
        {
          "output_type": "execute_result",
          "data": {
            "text/plain": [
              "a    10\n",
              "b    15\n",
              "c    20\n",
              "d    25\n",
              "dtype: int64"
            ]
          },
          "metadata": {},
          "execution_count": 8
        }
      ]
    },
    {
      "cell_type": "code",
      "source": [
        "dataframe.drop(‘marks’, axis = 1)"
      ],
      "metadata": {
        "id": "NJXjNG0_uUci"
      },
      "execution_count": null,
      "outputs": []
    },
    {
      "cell_type": "code",
      "source": [
        "import numpy as np\n",
        "x=np.arange(2,20,3)\n",
        "type(x)"
      ],
      "metadata": {
        "colab": {
          "base_uri": "https://localhost:8080/"
        },
        "id": "ynab3VZEw_NJ",
        "outputId": "0bfb2d26-8492-4875-c8c7-bec70e9bb687"
      },
      "execution_count": 13,
      "outputs": [
        {
          "output_type": "execute_result",
          "data": {
            "text/plain": [
              "numpy.ndarray"
            ]
          },
          "metadata": {},
          "execution_count": 13
        }
      ]
    }
  ]
}